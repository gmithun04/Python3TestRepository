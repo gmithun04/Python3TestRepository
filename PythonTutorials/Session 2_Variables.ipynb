{
 "cells": [
  {
   "cell_type": "code",
   "execution_count": 21,
   "metadata": {},
   "outputs": [
    {
     "name": "stdout",
     "output_type": "stream",
     "text": [
      "Enter frist number:2\n",
      "Ener second number:10\n",
      "sum of 2 and 10 is 12\n"
     ]
    }
   ],
   "source": [
    "var1= input(\"Enter frist number:\")\n",
    "var2= input(\"Ener second number:\")\n",
    "sum = int(var1) + int(var2)\n",
    "print(\"sum of {0} and {1} is {2}\" .format(var1, var2, sum))\n",
    "\n"
   ]
  },
  {
   "cell_type": "code",
   "execution_count": 23,
   "metadata": {},
   "outputs": [
    {
     "name": "stdout",
     "output_type": "stream",
     "text": [
      "Enter the frist number:30\n",
      "Enter the second number:40\n",
      "The sum of 30 and 40 is 70\n"
     ]
    }
   ],
   "source": [
    "myvar1 = input(\"Enter the frist number:\")\n",
    "myvar2 = input(\"Enter the second number:\")\n",
    "sum = int(myvar1) + int(myvar2)\n",
    "print(\"The sum of {0} and {1} is {2}\" .format(myvar1, myvar2, sum))"
   ]
  },
  {
   "cell_type": "code",
   "execution_count": 17,
   "metadata": {},
   "outputs": [
    {
     "name": "stdout",
     "output_type": "stream",
     "text": [
      "First number: 2\n",
      "\n",
      "Second number: 3\n",
      "The sum of 2 and 3 is 5.0\n"
     ]
    }
   ],
   "source": [
    "number1 = input(\"First number: \") \n",
    "number2 = input(\"\\nSecond number: \") \n",
    "  \n",
    "# Adding two numbers \n",
    "# User might also enter float numbers \n",
    "sum = float(number1) + float(number2) \n",
    "  \n",
    "# Display the sum \n",
    "# will print value in float \n",
    "print(\"The sum of {0} and {1} is {2}\" .format(number1, number2, sum))"
   ]
  },
  {
   "cell_type": "code",
   "execution_count": 43,
   "metadata": {},
   "outputs": [
    {
     "name": "stdout",
     "output_type": "stream",
     "text": [
      "first value: 2\n",
      "second value: 2\n",
      "third value: 2\n"
     ]
    },
    {
     "ename": "TypeError",
     "evalue": "'str' object is not callable",
     "output_type": "error",
     "traceback": [
      "\u001b[1;31m---------------------------------------------------------------------------\u001b[0m",
      "\u001b[1;31mTypeError\u001b[0m                                 Traceback (most recent call last)",
      "\u001b[1;32m<ipython-input-43-b06ceccea016>\u001b[0m in \u001b[0;36m<module>\u001b[1;34m\u001b[0m\n\u001b[0;32m      3\u001b[0m \u001b[0mmith3\u001b[0m \u001b[1;33m=\u001b[0m\u001b[0minput\u001b[0m\u001b[1;33m(\u001b[0m\u001b[1;34m\"third value: \"\u001b[0m\u001b[1;33m)\u001b[0m\u001b[1;33m\u001b[0m\u001b[1;33m\u001b[0m\u001b[0m\n\u001b[0;32m      4\u001b[0m \u001b[0msum\u001b[0m \u001b[1;33m=\u001b[0m \u001b[0mint\u001b[0m\u001b[1;33m(\u001b[0m\u001b[0mmith1\u001b[0m\u001b[1;33m)\u001b[0m \u001b[1;33m+\u001b[0m \u001b[0mint\u001b[0m\u001b[1;33m(\u001b[0m\u001b[0mmith2\u001b[0m\u001b[1;33m)\u001b[0m \u001b[1;33m+\u001b[0m \u001b[0mint\u001b[0m\u001b[1;33m(\u001b[0m\u001b[0mmith3\u001b[0m\u001b[1;33m)\u001b[0m\u001b[1;33m\u001b[0m\u001b[1;33m\u001b[0m\u001b[0m\n\u001b[1;32m----> 5\u001b[1;33m \u001b[0mprint\u001b[0m\u001b[1;33m(\u001b[0m\u001b[1;34m\"sum of {0} {1} and {2}\"\u001b[0m \u001b[1;33m.\u001b[0m\u001b[0mformat\u001b[0m\u001b[1;33m(\u001b[0m\u001b[0mmith1\u001b[0m\u001b[1;33m,\u001b[0m \u001b[0mmith2\u001b[0m\u001b[1;33m,\u001b[0m \u001b[0mmith3\u001b[0m\u001b[1;33m,\u001b[0m \u001b[0msum\u001b[0m\u001b[1;33m)\u001b[0m\u001b[1;33m)\u001b[0m\u001b[1;33m\u001b[0m\u001b[1;33m\u001b[0m\u001b[0m\n\u001b[0m",
      "\u001b[1;31mTypeError\u001b[0m: 'str' object is not callable"
     ]
    }
   ],
   "source": [
    "mith1 =input(\"first value: \")\n",
    "mith2 =input(\"second value: \")\n",
    "mith3 =input(\"third value: \")\n",
    "sum = int(mith1) + int(mith2) + int(mith3)\n",
    "print(\"sum of {0} {1} and {2}\" .format(mith1, mith2, mith3, sum))\n"
   ]
  },
  {
   "cell_type": "code",
   "execution_count": 10,
   "metadata": {},
   "outputs": [
    {
     "name": "stdout",
     "output_type": "stream",
     "text": [
      "Sum of 15 and 12 is 27\n"
     ]
    }
   ],
   "source": [
    "num1 = 15\n",
    "num2 = 12\n",
    "  \n",
    "# Adding two nos \n",
    "sum = num1 + num2 \n",
    "  \n",
    "# printing values \n",
    "print(\"Sum of {0} and {1} is {2}\" .format(num1, num2, sum)) "
   ]
  }
 ],
 "metadata": {
  "kernelspec": {
   "display_name": "Python 3",
   "language": "python",
   "name": "python3"
  },
  "language_info": {
   "codemirror_mode": {
    "name": "ipython",
    "version": 3
   },
   "file_extension": ".py",
   "mimetype": "text/x-python",
   "name": "python",
   "nbconvert_exporter": "python",
   "pygments_lexer": "ipython3",
   "version": "3.6.12"
  }
 },
 "nbformat": 4,
 "nbformat_minor": 4
}
